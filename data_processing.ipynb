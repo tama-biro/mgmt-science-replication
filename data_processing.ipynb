{
 "cells": [
  {
   "cell_type": "code",
   "execution_count": 1,
   "metadata": {},
   "outputs": [],
   "source": [
    "import pandas as pd\n",
    "import numpy as np"
   ]
  },
  {
   "cell_type": "code",
   "execution_count": 2,
   "metadata": {},
   "outputs": [],
   "source": [
    "filepath = './data/survey_results_publication_edited.xlsx'\n",
    "\n",
    "data = pd.read_excel(filepath, sheet_name='Raw Data')"
   ]
  },
  {
   "cell_type": "code",
   "execution_count": 24,
   "metadata": {},
   "outputs": [],
   "source": [
    "# Manually insert data where character\n",
    "data.loc[data['Subject 3'] == '--', 'Subject 3'] = 0.0\n",
    "data.loc[data['Subject 3'] == '5-10%', 'Subject 3'] = 0.075"
   ]
  },
  {
   "cell_type": "code",
   "execution_count": 21,
   "metadata": {},
   "outputs": [],
   "source": [
    "# Get subject column names\n",
    "sub_cols = [col for col in data.columns if 'Subject' in col]"
   ]
  },
  {
   "cell_type": "code",
   "execution_count": 33,
   "metadata": {},
   "outputs": [],
   "source": [
    "# Make boolean column take 1 or 0 (all 1)\n",
    "data.loc[22, sub_cols] = 1"
   ]
  },
  {
   "cell_type": "code",
   "execution_count": 35,
   "metadata": {},
   "outputs": [],
   "source": [
    "# Make all subject columns numeric\n",
    "data[sub_cols] = data[sub_cols].apply(pd.to_numeric, errors='coerce')"
   ]
  },
  {
   "cell_type": "code",
   "execution_count": 39,
   "metadata": {},
   "outputs": [],
   "source": [
    "avg_col = data.iloc[:,3:].mean(axis=1)\n",
    "median_col = data.iloc[:,3:].median(axis=1)"
   ]
  },
  {
   "cell_type": "code",
   "execution_count": 41,
   "metadata": {},
   "outputs": [],
   "source": [
    "data['avg'] = avg_col\n",
    "data['median'] = median_col"
   ]
  },
  {
   "cell_type": "code",
   "execution_count": 42,
   "metadata": {},
   "outputs": [],
   "source": [
    "data.to_csv('./data/processed_data.csv', index=False)"
   ]
  },
  {
   "cell_type": "code",
   "execution_count": null,
   "metadata": {},
   "outputs": [],
   "source": []
  }
 ],
 "metadata": {
  "kernelspec": {
   "display_name": "oct",
   "language": "python",
   "name": "python3"
  },
  "language_info": {
   "codemirror_mode": {
    "name": "ipython",
    "version": 3
   },
   "file_extension": ".py",
   "mimetype": "text/x-python",
   "name": "python",
   "nbconvert_exporter": "python",
   "pygments_lexer": "ipython3",
   "version": "3.9.13"
  },
  "orig_nbformat": 4,
  "vscode": {
   "interpreter": {
    "hash": "164d14fcec59a927b93fe3e5d332e333e10c2f1be765d0f0e352def241f58fed"
   }
  }
 },
 "nbformat": 4,
 "nbformat_minor": 2
}
